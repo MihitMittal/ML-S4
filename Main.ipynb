{
 "cells": [
  {
   "cell_type": "code",
   "execution_count": null,
   "metadata": {},
   "outputs": [],
   "source": [
    "import numpy as np\n",
    "import pandas as pd\n",
    "import matplotlib.pyplot as plt\n",
    "import seaborn as sns\n",
    "from sklearn.model_selection import train_test_split\n",
    "from sklearn.metrics import mean_squared_error\n",
    "from sklearn.linear_model import LinearRegression\n",
    "from sklearn.tree import DecisionTreeRegressor\n",
    "from sklearn.ensemble import RandomForestRegressor, GradientBoostingRegressor\n",
    "from sklearn.impute import SimpleImputer\n",
    "from sklearn.svm import SVR \n"
   ]
  },
  {
   "cell_type": "code",
   "execution_count": null,
   "metadata": {},
   "outputs": [],
   "source": [
    "# Load the dataset\n",
    "data = pd.read_csv(\"Australian Vehicle Prices.csv\")\n",
    "\n",
    "# Display the first few rows of the dataset\n",
    "data_head = data.head()\n",
    "\n",
    "# Get a concise summary of the dataframe\n",
    "data_info = data.info()\n",
    "\n",
    "# Display the statistical summary of numerical columns\n",
    "data_description = data.describe()\n",
    "\n",
    "data_head, data_info, data_description\n"
   ]
  },
  {
   "cell_type": "markdown",
   "metadata": {},
   "source": [
    "# Data Cleaning"
   ]
  },
  {
   "cell_type": "code",
   "execution_count": null,
   "metadata": {},
   "outputs": [],
   "source": [
    "# 1. Convert 'Price', 'Kilometres', 'Doors', and 'Seats' to numeric, handling errors by coercing to NaN\n",
    "data['Price'] = pd.to_numeric(data['Price'].str.replace('[^0-9.]', '', regex=True), errors='coerce')\n",
    "data['Kilometres'] = pd.to_numeric(data['Kilometres'].str.replace('[^0-9.]', '', regex=True), errors='coerce')\n",
    "data['Doors'] = pd.to_numeric(data['Doors'].str.extract('(\\d+)')[0], errors='coerce')\n",
    "data['Seats'] = pd.to_numeric(data['Seats'].str.extract('(\\d+)')[0], errors='coerce')\n",
    "\n",
    "# 2. Fill missing values for numeric columns with the median\n",
    "data['Price'].fillna(data['Price'].median(), inplace=True)\n",
    "data['Kilometres'].fillna(data['Kilometres'].median(), inplace=True)\n",
    "data['Doors'].fillna(data['Doors'].median(), inplace=True)\n",
    "data['Seats'].fillna(data['Seats'].median(), inplace=True)\n",
    "\n",
    "# 3. For categorical columns with missing values, fill with 'Unknown'\n",
    "categorical_columns_with_na = ['Car/Suv', 'Location', 'BodyType']\n",
    "for column in categorical_columns_with_na:\n",
    "    data[column].fillna('Unknown', inplace=True)\n",
    "\n",
    "# Optionally, display the cleaned data statistics to verify the changes\n",
    "cleaned_data_description = data.describe(include='all')\n",
    "print(cleaned_data_description)"
   ]
  },
  {
   "cell_type": "markdown",
   "metadata": {},
   "source": [
    "# Exploratory Data Analysis (EDA):"
   ]
  },
  {
   "cell_type": "code",
   "execution_count": null,
   "metadata": {},
   "outputs": [],
   "source": [
    "sns.set_style(\"whitegrid\")\n",
    "#Distribution of Vehicle Prices: You've visualized how vehicle prices are spread across your dataset, which helps identify the range most prices fall into and any outliers.\n",
    "plt.figure(figsize=(10, 6))\n",
    "sns.histplot(data['Price'], bins=30, kde=True)\n",
    "plt.title('Distribution of Vehicle Prices')\n",
    "plt.xlabel('Price')\n",
    "plt.ylabel('Frequency')\n",
    "plt.show()\n",
    "\n",
    "#Vehicle Price vs. Year: This plot highlights the relationship between the vehicle's manufacturing year and its price, indicating a potential trend where newer vehicles tend to be more expensive.\n",
    "plt.figure(figsize=(10, 6))\n",
    "sns.scatterplot(x='Year', y='Price', data=data)\n",
    "plt.title('Vehicle Price vs. Year')\n",
    "plt.xlabel('Year')\n",
    "plt.ylabel('Price')\n",
    "plt.show()\n",
    "\n",
    "#Distribution of Kilometres: Understanding how many kilometres vehicles have on the odometer helps in analyzing the impact of usage on price.\n",
    "#co relation Matrix\n",
    "plt.figure(figsize=(10, 6))\n",
    "sns.histplot(data['Kilometres'], bins=30, kde=True)\n",
    "plt.title('Distribution of Kilometres')\n",
    "plt.xlabel('Kilometres')\n",
    "plt.ylabel('Frequency')\n",
    "plt.show()\n",
    "\n",
    "#Price vs. Kilometres: This scatter plot examines how vehicle price relates to the number of kilometres driven, likely showing that vehicles with lower kilometres may fetch higher prices.\n",
    "plt.figure(figsize=(10, 6))\n",
    "sns.scatterplot(x='Kilometres', y='Price', data=data)\n",
    "plt.title('Price vs. Kilometres')\n",
    "plt.xlabel('Kilometres')\n",
    "plt.ylabel('Price')\n",
    "plt.show()\n",
    "\n",
    "#Distribution of Year: Seeing the year distribution helps understand the age range of the vehicles in your dataset.\n",
    "plt.figure(figsize=(10, 6))\n",
    "sns.histplot(data['Year'], bins=30, kde=True)\n",
    "plt.title('Distribution of Year')\n",
    "plt.xlabel('Year')\n",
    "plt.ylabel('Frequency')\n",
    "plt.show()\n",
    "\n",
    "#Price vs. Number of Doors: This analysis explores whether the number of doors on a vehicle influences its market price.\n",
    "plt.figure(figsize=(10, 6))\n",
    "sns.boxplot(x='Doors', y='Price', data=data)\n",
    "plt.title('Price vs. Number of Doors')\n",
    "plt.xlabel('Doors')\n",
    "plt.ylabel('Price')\n",
    "plt.show()\n",
    "\n",
    "#Distribution of Fuel Types: Identifying the variety and frequency of fuel types available in your dataset helps in understanding market preferences.\n",
    "plt.figure(figsize=(10, 6))\n",
    "sns.countplot(x='FuelType', data=data)\n",
    "plt.title('Distribution of Fuel Types')\n",
    "plt.xlabel('Fuel Type')\n",
    "plt.xticks(rotation=45)\n",
    "plt.ylabel('Count')\n",
    "plt.show()\n",
    "\n",
    "#Price vs. Fuel Type: By comparing vehicle prices across different fuel types, you can deduce if certain fuel types are associated with higher or lower prices.\n",
    "plt.figure(figsize=(10, 6))\n",
    "sns.boxplot(x='FuelType', y='Price', data=data)\n",
    "plt.title('Price vs. Fuel Type')\n",
    "plt.xlabel('Fuel Type')\n",
    "plt.ylabel('Price')\n",
    "plt.xticks(rotation=45)\n",
    "plt.show()\n"
   ]
  },
  {
   "cell_type": "markdown",
   "metadata": {},
   "source": [
    "# Feature Engineering"
   ]
  },
  {
   "cell_type": "code",
   "execution_count": null,
   "metadata": {},
   "outputs": [],
   "source": [
    "# Current year for calculating vehicle age\n",
    "current_year = np.max(data['Year'])\n",
    "\n",
    "# Create 'VehicleAge' feature\n",
    "data['VehicleAge'] = current_year - data['Year']\n",
    "\n",
    "# Selecting categorical variables for one-hot encoding\n",
    "categorical_features = ['FuelType', 'Transmission', 'DriveType']\n",
    "\n",
    "# Performing one-hot encoding\n",
    "one_hot_encoded_data = pd.get_dummies(data[categorical_features])\n",
    "\n",
    "# Drop the original categorical columns and concatenate the new one-hot encoded columns\n",
    "data_prepared = data.drop(categorical_features, axis=1)\n",
    "data_prepared = pd.concat([data_prepared, one_hot_encoded_data], axis=1)\n",
    "\n",
    "# Display the first few rows of the prepared dataset to verify changes\n",
    "data_prepared.head()\n"
   ]
  },
  {
   "cell_type": "markdown",
   "metadata": {},
   "source": [
    "# Data Preprocessing"
   ]
  },
  {
   "cell_type": "code",
   "execution_count": null,
   "metadata": {},
   "outputs": [],
   "source": [
    "# Define the features and target variable\n",
    "X = data_prepared.drop(['Price', 'Brand', 'Model', 'Car/Suv', 'Title', 'UsedOrNew', 'Engine', 'FuelConsumption', 'ColourExtInt', 'Location', 'CylindersinEngine', 'BodyType'], axis=1)\n",
    "y = data_prepared['Price']\n",
    "\n",
    "# Splitting the dataset into training and testing sets\n",
    "X_train, X_test, y_train, y_test = train_test_split(X, y, test_size=0.2, random_state=42)\n",
    "\n",
    "# Output the shape of the splits to confirm the sizes\n",
    "X_train.shape, X_test.shape, y_train.shape, y_test.shape\n"
   ]
  },
  {
   "cell_type": "markdown",
   "metadata": {},
   "source": [
    "# Model Selection and Training"
   ]
  },
  {
   "cell_type": "code",
   "execution_count": null,
   "metadata": {},
   "outputs": [],
   "source": [
    "# Assuming X and y are already defined and ready for use\n",
    "\n",
    "# Imputing missing values\n",
    "imputer = SimpleImputer(strategy='median')\n",
    "X_imputed = imputer.fit_transform(X)\n",
    "\n",
    "# Splitting the imputed data into training and testing sets again\n",
    "X_train_imputed, X_test_imputed, y_train, y_test = train_test_split(X_imputed, y, test_size=0.2, random_state=42)\n",
    "\n",
    "# Redefine the models dictionary\n",
    "models = {\n",
    "    \"Linear Regression\": LinearRegression(),\n",
    "    \"Decision Tree Regressor\": DecisionTreeRegressor(random_state=42),\n",
    "    \"Random Forest Regressor\": RandomForestRegressor(random_state=42),\n",
    "    \"Gradient Boosting Regressor\": GradientBoostingRegressor(random_state=42),\n",
    "    \"Support Vector Regressor\": SVR()\n",
    "}\n",
    "\n",
    "# Retraining models on the imputed data\n",
    "results_imputed = {}\n",
    "\n",
    "for name, model in models.items():\n",
    "    model.fit(X_train_imputed, y_train)\n",
    "    predictions = model.predict(X_test_imputed)\n",
    "    rmse = mean_squared_error(y_test, predictions, squared=False)\n",
    "    results_imputed[name] = rmse\n",
    "\n",
    "results_imputed\n",
    "\n"
   ]
  }
 ],
 "metadata": {
  "kernelspec": {
   "display_name": "Python 3",
   "language": "python",
   "name": "python3"
  },
  "language_info": {
   "codemirror_mode": {
    "name": "ipython",
    "version": 3
   },
   "file_extension": ".py",
   "mimetype": "text/x-python",
   "name": "python",
   "nbconvert_exporter": "python",
   "pygments_lexer": "ipython3",
   "version": "3.12.2"
  }
 },
 "nbformat": 4,
 "nbformat_minor": 2
}
